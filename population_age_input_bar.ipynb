{
 "cells": [
  {
   "cell_type": "code",
   "execution_count": 7,
   "metadata": {},
   "outputs": [
    {
     "name": "stdout",
     "output_type": "stream",
     "text": [
      "인구 구조가 알고 싶은 지역의 이름(읍면동 중(최소 지역 구분단위)를 입력해 주세요:연수1동\n",
      "['인천광역시 연수구 연수1동(2818576100)', '20,444', '20,444', '59', '86', '74', '81', '109', '111', '114', '138', '125', '134', '137', '139', '146', '131', '132', '164', '182', '186', '202', '258', '257', '288', '292', '328', '374', '339', '358', '348', '342', '318', '271', '272', '243', '232', '255', '247', '255', '270', '309', '338', '351', '316', '262', '307', '283', '300', '356', '388', '405', '425', '405', '442', '400', '391', '394', '425', '381', '442', '392', '412', '410', '336', '303', '308', '282', '263', '204', '177', '190', '123', '135', '164', '142', '140', '109', '97', '103', '103', '97', '85', '68', '77', '52', '59', '49', '42', '35', '42', '29', '20', '25', '14', '9', '10', '6', '3', '3', '3', '2', '0', '4']\n"
     ]
    },
    {
     "data": {
      "image/png": "[encoded data removed]",
      "text/plain": [
       "<Figure size 432x288 with 1 Axes>"
      ]
     },
     "metadata": {
      "needs_background": "light"
     },
     "output_type": "display_data"
    }
   ],
   "source": [
    "import csv\n",
    "import matplotlib.pyplot as plt\n",
    "\n",
    "f = open('D:/99. STUDY/02. people age analisys/202008_202008_age_month.csv','r', encoding='cp949')\n",
    "\n",
    "\n",
    "data = csv.reader(f)\n",
    "\n",
    "result = []\n",
    "name = input('인구 구조가 알고 싶은 지역의 이름(읍면동 중(최소 지역 구분단위)를 입력해 주세요:')  #문자열 입력 받기\n",
    "\n",
    "for row in data:\n",
    "    if name in row[0]:  #해당 문자열 포함 여부\n",
    "        print(row)\n",
    "        for i in row[3:]:\n",
    "            result.append(int(i.replace(',','')))\n",
    "\n",
    "#수직으로 보기\n",
    "plt.bar(range(101) , result)  #  x 축 (범위 지정: 100 : 사유ㅣ 0~100세까지 구분 하기 위함 ),  y축 \n",
    "\n",
    "plt.show()"
   ]
  },
  {
   "cell_type": "code",
   "execution_count": 8,
   "metadata": {},
   "outputs": [
    {
     "data": {
      "image/png": "[encoded data removed]",
      "text/plain": [
       "<Figure size 432x288 with 1 Axes>"
      ]
     },
     "metadata": {
      "needs_background": "light"
     },
     "output_type": "display_data"
    }
   ],
   "source": [
    "#수평으로 보기\n",
    "plt.barh(range(101) , result)  #  x 축 (범위 지정: 100 : 사유ㅣ 0~100세까지 구분 하기 위함 ),  y축 \n",
    "\n",
    "plt.show()\n"
   ]
  },
  {
   "cell_type": "code",
   "execution_count": null,
   "metadata": {},
   "outputs": [],
   "source": []
  },
  {
   "cell_type": "code",
   "execution_count": null,
   "metadata": {},
   "outputs": [],
   "source": []
  },
  {
   "cell_type": "code",
   "execution_count": null,
   "metadata": {},
   "outputs": [],
   "source": []
  },
  {
   "cell_type": "code",
   "execution_count": null,
   "metadata": {},
   "outputs": [],
   "source": []
  },
  {
   "cell_type": "code",
   "execution_count": null,
   "metadata": {},
   "outputs": [],
   "source": []
  }
 ],
 "metadata": {
  "kernelspec": {
   "display_name": "Python 3",
   "language": "python",
   "name": "python3"
  },
  "language_info": {
   "codemirror_mode": {
    "name": "ipython",
    "version": 3
   },
   "file_extension": ".py",
   "mimetype": "text/x-python",
   "name": "python",
   "nbconvert_exporter": "python",
   "pygments_lexer": "ipython3",
   "version": "3.7.3"
  }
 },
 "nbformat": 4,
 "nbformat_minor": 2
}
