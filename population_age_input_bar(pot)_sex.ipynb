{
 "cells": [
  {
   "cell_type": "code",
   "execution_count": 15,
   "metadata": {},
   "outputs": [
    {
     "name": "stdout",
     "output_type": "stream",
     "text": [
      "인구 구조가 알고 싶은 지역의 이름(읍면동 중(최소 지역 구분단위)를 입력해 주세요:연수1동\n",
      "연수1동\n"
     ]
    },
    {
     "data": {
      "image/png": "[encoded data removed]",
      "text/plain": [
       "<Figure size 432x288 with 1 Axes>"
      ]
     },
     "metadata": {
      "needs_background": "light"
     },
     "output_type": "display_data"
    }
   ],
   "source": [
    "import csv\n",
    "import matplotlib.pyplot as plt\n",
    "\n",
    "f = open('D:/99. STUDY/02. people age analisys/202008_202008_age_month_sex.csv','r', encoding='cp949')\n",
    "\n",
    "data = csv.reader(f)\n",
    "\n",
    "male_result = []\n",
    "fomale_result = []\n",
    "\n",
    "name = input('인구 구조가 알고 싶은 지역의 이름(읍면동 중(최소 지역 구분단위)를 입력해 주세요:')  #문자열 입력 받기\n",
    "\n",
    "for row in data:\n",
    "    if name in row[0]:\n",
    "        print(name)\n",
    "        for i in range(0,101):  #0~100 까지, 0부터 100세 까지\n",
    "            male   = row[i+3].replace(',','')\n",
    "            fomale = row[-(i+1)].replace(',','')\n",
    "             \n",
    "            male_result.append(-int(male ))  # '-'int 부호를 넣어서 음수값을 갖도록 함 항아리 그래프)\n",
    "            fomale_result.append( int( fomale))\n",
    "        break  #중복 방지 (임시로, 입력된 데이터 중 첫번째만 사용) ex)연수구..는 다수의 동 포함.. \n",
    "\n",
    "fomale_result.reverse()  #fomale_result은 역순으로 재배열  (사유: 100세 부터 입력 되기 때문)\n",
    "\n",
    "#데이터 시각화\n",
    "plt.barh(range(101), male_result)\n",
    "plt.barh(range(101), fomale_result)\n",
    "\n",
    "plt.show()"
   ]
  },
  {
   "cell_type": "code",
   "execution_count": 7,
   "metadata": {},
   "outputs": [
    {
     "data": {
      "image/png": "[encoded data removed]",
      "text/plain": [
       "<Figure size 432x288 with 1 Axes>"
      ]
     },
     "metadata": {
      "needs_background": "light"
     },
     "output_type": "display_data"
    }
   ],
   "source": [
    "plt.rc('font', family='Malgun Gothic')\n",
    "plt.title('신도림 지역의 남녀 성별 인구 분포')\n",
    "plt.rcParams['axes.unicode_minus'] = False    # '-' 부호가 깨지는 것을 방지\n",
    "plt.barh(range(101), male_result , label='남성')\n",
    "plt.barh(range(101), fomale_result , label='여성')\n",
    "\n",
    "plt.legend()\n",
    "plt.show()"
   ]
  },
  {
   "cell_type": "code",
   "execution_count": null,
   "metadata": {},
   "outputs": [],
   "source": []
  },
  {
   "cell_type": "code",
   "execution_count": null,
   "metadata": {},
   "outputs": [],
   "source": []
  },
  {
   "cell_type": "code",
   "execution_count": null,
   "metadata": {},
   "outputs": [],
   "source": []
  },
  {
   "cell_type": "code",
   "execution_count": null,
   "metadata": {},
   "outputs": [],
   "source": []
  },
  {
   "cell_type": "code",
   "execution_count": null,
   "metadata": {},
   "outputs": [],
   "source": []
  },
  {
   "cell_type": "code",
   "execution_count": null,
   "metadata": {},
   "outputs": [],
   "source": []
  }
 ],
 "metadata": {
  "kernelspec": {
   "display_name": "Python 3",
   "language": "python",
   "name": "python3"
  },
  "language_info": {
   "codemirror_mode": {
    "name": "ipython",
    "version": 3
   },
   "file_extension": ".py",
   "mimetype": "text/x-python",
   "name": "python",
   "nbconvert_exporter": "python",
   "pygments_lexer": "ipython3",
   "version": "3.7.3"
  }
 },
 "nbformat": 4,
 "nbformat_minor": 2
}
