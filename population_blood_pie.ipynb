{
 "cells": [
  {
   "cell_type": "code",
   "execution_count": 20,
   "metadata": {},
   "outputs": [
    {
     "name": "stdout",
     "output_type": "stream",
     "text": [
      "연수구\n"
     ]
    },
    {
     "data": {
      "image/png": "[encoded data removed]",
      "text/plain": [
       "<Figure size 432x288 with 1 Axes>"
      ]
     },
     "metadata": {},
     "output_type": "display_data"
    }
   ],
   "source": [
    "import csv\n",
    "import matplotlib.pyplot as plt\n",
    "\n",
    "f = open('D:/99. STUDY/02. people age analisys/202008_202008_age_month_sex.csv','r', encoding='cp949')\n",
    "\n",
    "data = csv.reader(f)\n",
    "\n",
    "size = []  #남여 인구수 저장할 빈 리스트\n",
    "\n",
    "name = '연수구' #input('인구 구조가 알고 싶은 지역의 이름(읍면동 중(최소 지역 구분단위)를 입력해 주세요:')  #문자열 입력 받기\n",
    "\n",
    "for row in data:\n",
    "    if name in row[0]:\n",
    "        print(name)\n",
    "        male_cnt = 0\n",
    "        fomale_cnt = 0         \n",
    "        for i in range(0,101):  #0~100 까지, 0부터 100세 까지\n",
    "                        \n",
    "            # ',' 문자 제거\n",
    "            male   = row[i+3].replace(',','')\n",
    "            fomale = row[-(i+1)].replace(',','')\n",
    "            \n",
    "            #int 로 형변황 ( 인구수 누적)\n",
    "            male_cnt +=  int(male)\n",
    "            fomale_cnt +=  int(fomale)\n",
    "                        \n",
    "            #male_result.append(-int(male ))  # '-'int 부호를 넣어서 음수값을 갖도록 함 항아리 그래프)\n",
    "            #fomale_result.append( int( fomale))\n",
    "            \n",
    "        break  #중복 방지 (임시로, 입력된 데이터 중 첫번째만 사용) ex)연수구..는 다수의 동 포함.. \n",
    "\n",
    "\n",
    "size.append(male_cnt)\n",
    "size.append(fomale_cnt)\n",
    "        \n",
    "#fomale_result.reverse()  #fomale_result은 역순으로 재배열  (사유: 100세 부터 입력 되기 때문)\n",
    "\n",
    "#데이터 시각화\n",
    "color = ['crimson','darkcyan']\n",
    "label = ['남자','여자']   #반시계 방향 (파이 차트의 시작점은 3시 방향임)\n",
    "plt.rc('font', family='Malgun Gothic') #그래프에 한글 표시\n",
    "plt.axis = ('equal')                   #좀더 동그란, 균일한 원 그리기\n",
    "\n",
    "#autopct : 자동 비율 표시\n",
    "#explod  : 돌출 표시  (, explode=[0,0,0.1,0])\n",
    "#color   : 색상 지정\n",
    "#startangle : 시작점  (최소는 3시 방향)    , startangle = 90 는 시계 반대 방향으로 90도. 즉 12시가 됨\n",
    "\n",
    "plt.pie(size , labels = label, autopct='%.1f%%', colors= color , startangle = 90)   \n",
    "\n",
    "#범례 추가\n",
    "plt.legend()  \n",
    "plt.show()"
   ]
  },
  {
   "cell_type": "code",
   "execution_count": null,
   "metadata": {},
   "outputs": [],
   "source": []
  },
  {
   "cell_type": "code",
   "execution_count": null,
   "metadata": {},
   "outputs": [],
   "source": []
  },
  {
   "cell_type": "code",
   "execution_count": null,
   "metadata": {},
   "outputs": [],
   "source": []
  },
  {
   "cell_type": "code",
   "execution_count": null,
   "metadata": {},
   "outputs": [],
   "source": []
  },
  {
   "cell_type": "code",
   "execution_count": null,
   "metadata": {},
   "outputs": [],
   "source": []
  },
  {
   "cell_type": "code",
   "execution_count": null,
   "metadata": {},
   "outputs": [],
   "source": []
  },
  {
   "cell_type": "code",
   "execution_count": null,
   "metadata": {},
   "outputs": [],
   "source": []
  },
  {
   "cell_type": "code",
   "execution_count": null,
   "metadata": {},
   "outputs": [],
   "source": []
  },
  {
   "cell_type": "code",
   "execution_count": null,
   "metadata": {},
   "outputs": [],
   "source": []
  },
  {
   "cell_type": "code",
   "execution_count": null,
   "metadata": {},
   "outputs": [],
   "source": []
  },
  {
   "cell_type": "code",
   "execution_count": null,
   "metadata": {},
   "outputs": [],
   "source": []
  },
  {
   "cell_type": "code",
   "execution_count": null,
   "metadata": {},
   "outputs": [],
   "source": []
  },
  {
   "cell_type": "code",
   "execution_count": null,
   "metadata": {},
   "outputs": [],
   "source": []
  },
  {
   "cell_type": "code",
   "execution_count": null,
   "metadata": {},
   "outputs": [],
   "source": []
  },
  {
   "cell_type": "code",
   "execution_count": null,
   "metadata": {},
   "outputs": [],
   "source": []
  },
  {
   "cell_type": "code",
   "execution_count": 5,
   "metadata": {},
   "outputs": [
    {
     "data": {
      "image/png": "[encoded data removed]",
      "text/plain": [
       "<Figure size 432x288 with 1 Axes>"
      ]
     },
     "metadata": {},
     "output_type": "display_data"
    }
   ],
   "source": []
  },
  {
   "cell_type": "code",
   "execution_count": null,
   "metadata": {},
   "outputs": [],
   "source": []
  },
  {
   "cell_type": "code",
   "execution_count": null,
   "metadata": {},
   "outputs": [],
   "source": []
  },
  {
   "cell_type": "code",
   "execution_count": null,
   "metadata": {},
   "outputs": [],
   "source": []
  },
  {
   "cell_type": "code",
   "execution_count": null,
   "metadata": {},
   "outputs": [],
   "source": []
  }
 ],
 "metadata": {
  "kernelspec": {
   "display_name": "Python 3",
   "language": "python",
   "name": "python3"
  },
  "language_info": {
   "codemirror_mode": {
    "name": "ipython",
    "version": 3
   },
   "file_extension": ".py",
   "mimetype": "text/x-python",
   "name": "python",
   "nbconvert_exporter": "python",
   "pygments_lexer": "ipython3",
   "version": "3.7.3"
  }
 },
 "nbformat": 4,
 "nbformat_minor": 2
}
